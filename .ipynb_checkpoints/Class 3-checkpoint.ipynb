{
 "cells": [
  {
   "cell_type": "markdown",
   "id": "2ba82f3b",
   "metadata": {},
   "source": [
    "# Balanced parentheses check\n",
    "\n",
    "### Given a string of opening and closing parentheses, check whether it is balanced.\n",
    "### There are 3 types of parentheses here: round (), square brackets [], and curly brackets (braces) {}\n",
    "\n",
    "_Assumptions_\n",
    "1. Assume the string doesn't contain any other character other than the ones mentioned above (no spaces, words or numbers).\n",
    "2. Balanced parentheses require every opening parentheses to be closed in the reverse order opened.\n",
    "\n",
    "```\n",
    "Examples:\n",
    "balance_check(\"([{}])\") should return true\n",
    "balanced_check(\"{{{}}]\") should return false\n",
    "\n",
    "Similarly:\n",
    "\"()()(){{{}}}\" is a balanced string\n",
    "\"()(){]((()))\" is not\n",
    "```\n",
    "\n",
    "#### Instructions\n",
    "Create a function called \"balanced_check\" that takes a string as its parameter and return True if it is balanced considering the criteria mentioned above; False otherwise.\n"
   ]
  },
  {
   "cell_type": "code",
   "execution_count": 9,
   "id": "cac718a9",
   "metadata": {},
   "outputs": [],
   "source": [
    "def balanced_check(myString):\n",
    "    if (len(myString) % 2) != 0:\n",
    "        return False\n",
    "    open_brackets = [\"(\", \"[\", \"{\"]\n",
    "    close_brackets = [\")\", \"]\", \"}\"]\n",
    "    stack = []\n",
    "    for i in myString:\n",
    "        if i in open_brackets:\n",
    "            stack.append(i)\n",
    "        elif i in close_brackets:\n",
    "            position = close_brackets.index(i)\n",
    "            if len(stack) > 0 and open_brackets[position] == stack[len(stack) - 1]:\n",
    "                stack.pop() \n",
    "            else:\n",
    "                return False\n",
    "    if len(stack) == 0:\n",
    "        return True\n",
    "    else:\n",
    "        return False\n"
   ]
  },
  {
   "cell_type": "code",
   "execution_count": 10,
   "id": "08643f24",
   "metadata": {},
   "outputs": [
    {
     "data": {
      "text/plain": [
       "True"
      ]
     },
     "execution_count": 10,
     "metadata": {},
     "output_type": "execute_result"
    }
   ],
   "source": [
    "balanced_check(\"((()))\")"
   ]
  },
  {
   "cell_type": "code",
   "execution_count": 11,
   "id": "307880fd",
   "metadata": {},
   "outputs": [
    {
     "data": {
      "text/plain": [
       "False"
      ]
     },
     "execution_count": 11,
     "metadata": {},
     "output_type": "execute_result"
    }
   ],
   "source": [
    "balanced_check(\"((({{[})))\")"
   ]
  },
  {
   "cell_type": "code",
   "execution_count": 12,
   "id": "eae10cc6",
   "metadata": {},
   "outputs": [
    {
     "data": {
      "text/plain": [
       "True"
      ]
     },
     "execution_count": 12,
     "metadata": {},
     "output_type": "execute_result"
    }
   ],
   "source": [
    "balanced_check(\"([[]]{[]})\")"
   ]
  },
  {
   "cell_type": "code",
   "execution_count": 13,
   "id": "72d8e56c",
   "metadata": {},
   "outputs": [],
   "source": [
    "def balance_check(s):\n",
    "    if len(s) % 2 != 0:\n",
    "        return False\n",
    "    opening = [\"(\", \"[\", \"{\"]\n",
    "    matches = [(\"(\", \")\"), (\"[\", \"]\"), (\"{\", \"}\")]\n",
    "    stack = []\n",
    "    for paren in s:\n",
    "        if paren in opening:\n",
    "            stack.append(paren)\n",
    "        else:\n",
    "            if stack == []:\n",
    "                return False\n",
    "            last_open = stack.pop()\n",
    "            if (last_open, paren) not in matches:\n",
    "                return False\n",
    "    return stack == []"
   ]
  },
  {
   "cell_type": "code",
   "execution_count": 14,
   "id": "6c83a8e4",
   "metadata": {},
   "outputs": [
    {
     "data": {
      "text/plain": [
       "True"
      ]
     },
     "execution_count": 14,
     "metadata": {},
     "output_type": "execute_result"
    }
   ],
   "source": [
    "balance_check(\"[[{{{}}}]]\")"
   ]
  },
  {
   "cell_type": "code",
   "execution_count": 15,
   "id": "8a0014b8",
   "metadata": {},
   "outputs": [
    {
     "data": {
      "text/plain": [
       "False"
      ]
     },
     "execution_count": 15,
     "metadata": {},
     "output_type": "execute_result"
    }
   ],
   "source": [
    "balance_check(\"[[{{(()}]]\")"
   ]
  },
  {
   "cell_type": "markdown",
   "id": "afa247a0",
   "metadata": {},
   "source": [
    "# Homework for class 3\n",
    "\n",
    "### Given the stack class below, implement a queue class using two stacks.\n",
    "### Note, this is a \"classic\" interview problem.\n",
    "### You may use a python list data structure as your stack but it must behave like a stack at all times.\n",
    "### The goal is to create a queue which is FIFO by using two stacks which are LIFO.\n",
    "\n",
    "```\n",
    "class Queue2Stacks:\n",
    "    def __init__(self):\n",
    "        # Two stacks\n",
    "        self.stack1= []\n",
    "        self.stack2= []\n",
    "    \n",
    "    def enqueue(self, element):\n",
    "        # FILL OUT CODE HERE\n",
    "        pass\n",
    "        \n",
    "    def dequeue(self):\n",
    "        # FILL OUT CODE HERE\n",
    "        pass\n",
    "```\n"
   ]
  },
  {
   "cell_type": "code",
   "execution_count": 1,
   "id": "899397b8",
   "metadata": {},
   "outputs": [],
   "source": [
    "class Node:\n",
    "    def __init__(self, data):\n",
    "        self.next = None\n",
    "        self.data = data"
   ]
  },
  {
   "cell_type": "code",
   "execution_count": 9,
   "id": "5ca350c9",
   "metadata": {},
   "outputs": [],
   "source": [
    "class SinglyLinkedList:\n",
    "    def __init__(self):\n",
    "        self.head = None\n",
    "    \n",
    "    def append(self, element):\n",
    "        if not self.head:\n",
    "            self.head = Node(element)\n",
    "            return\n",
    "        pointer = self.head\n",
    "        while pointer.next:\n",
    "            pointer = pointer.next\n",
    "        pointer.next = Node(element)\n",
    "    \n",
    "    def insert(self, index, element):\n",
    "        # replace first chunck of code with self.length() (not created yet) to get the length of our list\n",
    "        count = 1\n",
    "        pionter = self.head\n",
    "        # find out the length of our list\n",
    "        while pointer.next:\n",
    "            count += 1\n",
    "            pointer = pointer.next\n",
    "        if index >= count:\n",
    "            raise IndexError(\"Index given is greater than list size\")\n",
    "            return\n",
    "        \n",
    "        count = 0\n",
    "        pointer = self.head\n",
    "        if index == 0:\n",
    "            new_node = Node(element)\n",
    "            new_node.next = pointer\n",
    "            self.head = new_node\n",
    "        while count < index or pointer.next == None:\n",
    "            pointer = pointer.next\n",
    "            count =+ 1\n",
    "        if pointer.next == None:\n",
    "            pointer.next = Node(element)\n",
    "            return\n",
    "        new_node = Node(element)\n",
    "        new_node.next = pointer.next\n",
    "        pointer.next = new_node\n",
    "        "
   ]
  },
  {
   "cell_type": "code",
   "execution_count": 11,
   "id": "cd41798d",
   "metadata": {},
   "outputs": [
    {
     "name": "stdout",
     "output_type": "stream",
     "text": [
      "One\n",
      "Two\n",
      "Three\n",
      "Four\n",
      "\n",
      "Test First Two elements:\n",
      "\n",
      "One | <__main__.Node object at 0x7ff7541ec280>\n",
      "Two | <__main__.Node object at 0x7ff7541ec3d0>\n"
     ]
    }
   ],
   "source": [
    "# SinglyLinkedList() test code\n",
    "\n",
    "myList = SinglyLinkedList()\n",
    "myList.append(\"One\")\n",
    "myList.append(\"Two\")\n",
    "myList.append(\"Three\")\n",
    "myList.append(\"Four\")\n",
    "pointer = myList.head\n",
    "while pointer.next:\n",
    "    print(pointer.data)\n",
    "    pointer = pointer.next\n",
    "print(pointer.data)\n",
    "\n",
    "print(\"\\nTest First Two elements:\\n\")\n",
    "pointer = myList.head\n",
    "print(pointer.data + \" | \" + str(pointer))\n",
    "print(pointer.next.data + \" | \" + str(pointer.next))"
   ]
  },
  {
   "cell_type": "code",
   "execution_count": null,
   "id": "36dc3ba9",
   "metadata": {},
   "outputs": [],
   "source": []
  }
 ],
 "metadata": {
  "kernelspec": {
   "display_name": "Python 3 (ipykernel)",
   "language": "python",
   "name": "python3"
  },
  "language_info": {
   "codemirror_mode": {
    "name": "ipython",
    "version": 3
   },
   "file_extension": ".py",
   "mimetype": "text/x-python",
   "name": "python",
   "nbconvert_exporter": "python",
   "pygments_lexer": "ipython3",
   "version": "3.8.10"
  }
 },
 "nbformat": 4,
 "nbformat_minor": 5
}
