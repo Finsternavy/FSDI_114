{
 "cells": [
  {
   "cell_type": "code",
   "execution_count": 2,
   "id": "09e2b661",
   "metadata": {},
   "outputs": [],
   "source": [
    "class Node:\n",
    "    def __init__(self, data):\n",
    "        self.above = None\n",
    "        self.below = None\n",
    "        self.data = data\n",
    "        "
   ]
  },
  {
   "cell_type": "code",
   "execution_count": 28,
   "id": "d6740042",
   "metadata": {},
   "outputs": [],
   "source": [
    "class Stack:\n",
    "    def __init__(self):\n",
    "        self.base = None\n",
    "        self.top = None\n",
    "        \n",
    "    def push(self, element):\n",
    "        if not self.base:\n",
    "            self.base = Node(element)\n",
    "            self.top = self.base\n",
    "        else:\n",
    "            topmost_item = self.top\n",
    "            new_node = Node(element)\n",
    "            topmost_item.above = new_node\n",
    "            new_node.below = topmost_item\n",
    "            self.top = new_node\n",
    "            \n",
    "            \n",
    "    def pop(self):\n",
    "        if not self.base:\n",
    "            raise IndexError(\"Stack is empty.\")\n",
    "        if self.top == self.base:\n",
    "            value = self.base.data\n",
    "            self.top = None\n",
    "            self.base = None\n",
    "            return value\n",
    "        new_top = self.top.below\n",
    "        old_top = self.top\n",
    "        new_top.above = None\n",
    "        self.top = new_top\n",
    "        return old_top.data\n",
    "    \n",
    "    def size(self):\n",
    "        # should return the total amount of elements in our stack\n",
    "        if not self.base:\n",
    "            return 0\n",
    "        count = 1\n",
    "        pointer = self.base\n",
    "        while pointer.above != None:\n",
    "            count += 1\n",
    "            pointer = pointer.above\n",
    "        return count\n",
    "        \n",
    "    def is_empty(self):\n",
    "        # should return true if the stack is empty, false otherwise\n",
    "        if not self.base:\n",
    "            return True\n",
    "        return False\n",
    "        \n",
    "    def peek(self):\n",
    "        # should return the value of the top element in the stack\n",
    "        return self.top.data"
   ]
  },
  {
   "cell_type": "code",
   "execution_count": 9,
   "id": "ee2bbfae",
   "metadata": {},
   "outputs": [],
   "source": [
    "def reverse_string(mystring):\n",
    "    output_str = \"\"\n",
    "    stack = Stack()\n",
    "    for letter in mystring:\n",
    "        stack.push(letter)\n",
    "    for _ in range(len(mystring)):\n",
    "        output_str += stack.pop()\n",
    "    return output_str"
   ]
  },
  {
   "cell_type": "code",
   "execution_count": 12,
   "id": "5615c2bd",
   "metadata": {},
   "outputs": [
    {
     "data": {
      "text/plain": [
       "'sirhC'"
      ]
     },
     "execution_count": 12,
     "metadata": {},
     "output_type": "execute_result"
    }
   ],
   "source": [
    "reverse_string(\"Chris\")"
   ]
  },
  {
   "cell_type": "code",
   "execution_count": 30,
   "id": "4c968f63",
   "metadata": {},
   "outputs": [
    {
     "name": "stdout",
     "output_type": "stream",
     "text": [
      "0\n",
      "1\n",
      "2\n",
      "3\n",
      "4\n",
      "5\n",
      "6\n",
      "7\n",
      "8\n",
      "9\n",
      "The stack size is: 10\n",
      "Is empty test: False\n",
      "Peek test. The top element is: 9\n"
     ]
    }
   ],
   "source": [
    "stack = Stack()\n",
    "for i in range(10):\n",
    "    stack.push(i)\n",
    "    print(i)\n",
    "print(\"The stack size is: \" + str(stack.size()))\n",
    "print(\"Is empty test: \" + str(stack.is_empty()))\n",
    "print(\"Peek test. The top element is: \" + str(stack.peek()))"
   ]
  },
  {
   "cell_type": "code",
   "execution_count": 31,
   "id": "0b7cdc21",
   "metadata": {},
   "outputs": [],
   "source": [
    "class Queue:\n",
    "    def __init__(self):\n",
    "        self.items = []\n",
    "        \n",
    "    def enqueue(self, element):\n",
    "        self.items.insert(0, element)\n",
    "        \n",
    "    def dequeue(self):\n",
    "        return self.items.pop()\n",
    "    \n",
    "    def size(self):\n",
    "        return len(self.items)\n",
    "    \n",
    "    def is_empty(self):\n",
    "        return self.items == []\n",
    "    \n",
    "    def peek(self):\n",
    "        return self.items[len(self.items)-1]\n",
    "    \n",
    "    "
   ]
  },
  {
   "cell_type": "code",
   "execution_count": 34,
   "id": "21a6fd33",
   "metadata": {},
   "outputs": [
    {
     "name": "stdout",
     "output_type": "stream",
     "text": [
      "Element: 0\n",
      "Element: 1\n",
      "Element: 2\n",
      "Element: 3\n",
      "Element: 4\n",
      "Element: 5\n",
      "Element: 6\n",
      "Element: 7\n",
      "Element: 8\n",
      "Element: 9\n"
     ]
    }
   ],
   "source": [
    "queue = Queue()\n",
    "\n",
    "for i in range(10):\n",
    "    queue.enqueue(i)\n",
    "    \n",
    "while not queue.is_empty():\n",
    "    print(\"Element: %s\" % queue.dequeue())"
   ]
  },
  {
   "cell_type": "code",
   "execution_count": 5,
   "id": "e92547a4",
   "metadata": {},
   "outputs": [],
   "source": [
    "# Implement a Queue class without using a Python list based on our approach with stack\n",
    "# Consider using a Node class for this as well\n",
    "\n",
    "class queue_Node:\n",
    "    def __init__(self, data):\n",
    "        self.left = None\n",
    "        self.right = None\n",
    "        self.data = data\n",
    "        "
   ]
  },
  {
   "cell_type": "code",
   "execution_count": 6,
   "id": "9d795456",
   "metadata": {},
   "outputs": [],
   "source": [
    "class Queue:\n",
    "    def __init__(self):\n",
    "        self.front = None\n",
    "        self.rear = None\n",
    "        \n",
    "    def enqueue(self, element):\n",
    "        \n",
    "        new_node = queue_Node(element)\n",
    "        \n",
    "        if not self.front:\n",
    "            self.front = new_node\n",
    "            self.rear = self.front\n",
    "        else:\n",
    "            old_rear = self.rear\n",
    "            old_rear.left = new_node\n",
    "            new_node.right = old_rear\n",
    "            self.rear = new_node\n",
    "            \n",
    "            \n",
    "    def dequeue(self):\n",
    "        if not self.front:\n",
    "            raise IndexError(\"Queue is empty.\")\n",
    "        if self.front == self.rear:\n",
    "            value = self.front.data\n",
    "            self.front = None\n",
    "            self.rear = None\n",
    "            return value\n",
    "        new_front = self.front.left\n",
    "        old_front = self.front\n",
    "        new_front.right = None\n",
    "        self.front = new_front\n",
    "        return old_front.data\n",
    "    \n",
    "    def size(self):\n",
    "        # should return the total amount of elements in our stack\n",
    "        if not self.front:\n",
    "            return 0\n",
    "        count = 1\n",
    "        pointer = self.front\n",
    "        while pointer.left != None:\n",
    "            count += 1\n",
    "            pointer = pointer.left\n",
    "        return count\n",
    "        \n",
    "    def is_empty(self):\n",
    "        # should return true if the stack is empty, false otherwise\n",
    "        if not self.front:\n",
    "            return True\n",
    "        return False\n",
    "        \n",
    "    def peek(self):\n",
    "        # should return the value of the top element in the stack\n",
    "        return self.front.data\n",
    "    \n",
    "    # add priority system to explore how that would change things"
   ]
  },
  {
   "cell_type": "code",
   "execution_count": 8,
   "id": "a4cd52f8",
   "metadata": {},
   "outputs": [
    {
     "name": "stdout",
     "output_type": "stream",
     "text": [
      "0 add to the queue in iteration 1\n",
      "1 add to the queue in iteration 2\n",
      "2 add to the queue in iteration 3\n",
      "3 add to the queue in iteration 4\n",
      "4 add to the queue in iteration 5\n",
      "5 add to the queue in iteration 6\n",
      "6 add to the queue in iteration 7\n",
      "7 add to the queue in iteration 8\n",
      "8 add to the queue in iteration 9\n",
      "9 add to the queue in iteration 10\n",
      "\n",
      "The size of the queue is: 10\n",
      "\n",
      "Peek test. Should be number 0 returned: 0\n",
      "\n",
      "0 removed on dequeue iteration number 1\n",
      "1 removed on dequeue iteration number 2\n",
      "2 removed on dequeue iteration number 3\n",
      "3 removed on dequeue iteration number 4\n",
      "4 removed on dequeue iteration number 5\n",
      "5 removed on dequeue iteration number 6\n",
      "6 removed on dequeue iteration number 7\n",
      "7 removed on dequeue iteration number 8\n",
      "8 removed on dequeue iteration number 9\n",
      "9 removed on dequeue iteration number 10\n"
     ]
    }
   ],
   "source": [
    "queue = Queue()\n",
    "\n",
    "order_in_queue = 1\n",
    "\n",
    "for i in range(10):\n",
    "    queue.enqueue(i)\n",
    "    print(f\"{i} add to the queue in iteration {order_in_queue}\")\n",
    "    order_in_queue += 1\n",
    "\n",
    "print(\"\\nThe size of the queue is: \" + str(queue.size()) + \"\\n\")\n",
    "print(\"Peek test. Should be number \" + str(queue.front.data) + \" returned: \" + str(queue.peek()) + \"\\n\")\n",
    "order_of_dequeue = 1\n",
    "\n",
    "for i in range(queue.size()):\n",
    "    print(f\"{queue.dequeue()} removed on dequeue iteration number {order_of_dequeue}\")\n",
    "    order_of_dequeue += 1\n"
   ]
  },
  {
   "cell_type": "code",
   "execution_count": null,
   "id": "64ba9985",
   "metadata": {},
   "outputs": [],
   "source": []
  }
 ],
 "metadata": {
  "kernelspec": {
   "display_name": "Python 3 (ipykernel)",
   "language": "python",
   "name": "python3"
  },
  "language_info": {
   "codemirror_mode": {
    "name": "ipython",
    "version": 3
   },
   "file_extension": ".py",
   "mimetype": "text/x-python",
   "name": "python",
   "nbconvert_exporter": "python",
   "pygments_lexer": "ipython3",
   "version": "3.8.10"
  }
 },
 "nbformat": 4,
 "nbformat_minor": 5
}
