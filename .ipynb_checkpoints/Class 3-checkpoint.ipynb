{
 "cells": [
  {
   "cell_type": "markdown",
   "id": "2ba82f3b",
   "metadata": {},
   "source": [
    "# Balanced parentheses check\n",
    "\n",
    "### Given a string of opening and closing parentheses, check whether it is balanced.\n",
    "### There are 3 types of parentheses here: round (), square brackets [], and curly brackets (braces) {}\n",
    "\n",
    "_Assumptions_\n",
    "1. Assume the string doesn't contain any other character other than the ones mentioned above (no spaces, words or numbers).\n",
    "2. Balanced parentheses require every opening parentheses to be closed in the reverse order opened.\n",
    "\n",
    "```\n",
    "Examples:\n",
    "balance_check(\"([{}])\") should return true\n",
    "balanced_check(\"{{{}}]\") should return false\n",
    "\n",
    "Similarly:\n",
    "\"()()(){{{}}}\" is a balanced string\n",
    "\"()(){]((()))\" is not\n",
    "```\n",
    "\n",
    "#### Instructions\n",
    "Create a function called \"balanced_check\" that takes a string as its parameter and return True if it is balanced considering the criteria mentioned above; False otherwise.\n"
   ]
  },
  {
   "cell_type": "code",
   "execution_count": 9,
   "id": "cac718a9",
   "metadata": {},
   "outputs": [],
   "source": [
    "def balanced_check(myString):\n",
    "    if (len(myString) % 2) != 0:\n",
    "        return False\n",
    "    open_brackets = [\"(\", \"[\", \"{\"]\n",
    "    close_brackets = [\")\", \"]\", \"}\"]\n",
    "    stack = []\n",
    "    for i in myString:\n",
    "        if i in open_brackets:\n",
    "            stack.append(i)\n",
    "        elif i in close_brackets:\n",
    "            position = close_brackets.index(i)\n",
    "            if len(stack) > 0 and open_brackets[position] == stack[len(stack) - 1]:\n",
    "                stack.pop() \n",
    "            else:\n",
    "                return False\n",
    "    if len(stack) == 0:\n",
    "        return True\n",
    "    else:\n",
    "        return False\n"
   ]
  },
  {
   "cell_type": "code",
   "execution_count": 10,
   "id": "08643f24",
   "metadata": {},
   "outputs": [
    {
     "data": {
      "text/plain": [
       "True"
      ]
     },
     "execution_count": 10,
     "metadata": {},
     "output_type": "execute_result"
    }
   ],
   "source": [
    "balanced_check(\"((()))\")"
   ]
  },
  {
   "cell_type": "code",
   "execution_count": 11,
   "id": "307880fd",
   "metadata": {},
   "outputs": [
    {
     "data": {
      "text/plain": [
       "False"
      ]
     },
     "execution_count": 11,
     "metadata": {},
     "output_type": "execute_result"
    }
   ],
   "source": [
    "balanced_check(\"((({{[})))\")"
   ]
  },
  {
   "cell_type": "code",
   "execution_count": 12,
   "id": "eae10cc6",
   "metadata": {},
   "outputs": [
    {
     "data": {
      "text/plain": [
       "True"
      ]
     },
     "execution_count": 12,
     "metadata": {},
     "output_type": "execute_result"
    }
   ],
   "source": [
    "balanced_check(\"([[]]{[]})\")"
   ]
  },
  {
   "cell_type": "code",
   "execution_count": 13,
   "id": "72d8e56c",
   "metadata": {},
   "outputs": [],
   "source": [
    "def balance_check(s):\n",
    "    if len(s) % 2 != 0:\n",
    "        return False\n",
    "    opening = [\"(\", \"[\", \"{\"]\n",
    "    matches = [(\"(\", \")\"), (\"[\", \"]\"), (\"{\", \"}\")]\n",
    "    stack = []\n",
    "    for paren in s:\n",
    "        if paren in opening:\n",
    "            stack.append(paren)\n",
    "        else:\n",
    "            if stack == []:\n",
    "                return False\n",
    "            last_open = stack.pop()\n",
    "            if (last_open, paren) not in matches:\n",
    "                return False\n",
    "    return stack == []"
   ]
  },
  {
   "cell_type": "code",
   "execution_count": 14,
   "id": "6c83a8e4",
   "metadata": {},
   "outputs": [
    {
     "data": {
      "text/plain": [
       "True"
      ]
     },
     "execution_count": 14,
     "metadata": {},
     "output_type": "execute_result"
    }
   ],
   "source": [
    "balance_check(\"[[{{{}}}]]\")"
   ]
  },
  {
   "cell_type": "code",
   "execution_count": 15,
   "id": "8a0014b8",
   "metadata": {},
   "outputs": [
    {
     "data": {
      "text/plain": [
       "False"
      ]
     },
     "execution_count": 15,
     "metadata": {},
     "output_type": "execute_result"
    }
   ],
   "source": [
    "balance_check(\"[[{{(()}]]\")"
   ]
  },
  {
   "cell_type": "markdown",
   "id": "afa247a0",
   "metadata": {},
   "source": [
    "# Homework for class 3\n",
    "\n",
    "### Given the stack class below, implement a queue class using two stacks.\n",
    "### Note, this is a \"classic\" interview problem.\n",
    "### You may use a python list data structure as your stack but it must behave like a stack at all times.\n",
    "### The goal is to create a queue which is FIFO by using two stacks which are LIFO.\n",
    "\n",
    "```\n",
    "class Queue2Stacks:\n",
    "    def __init__(self):\n",
    "        # Two stacks\n",
    "        self.stack1= []\n",
    "        self.stack2= []\n",
    "    \n",
    "    def enqueue(self, element):\n",
    "        # FILL OUT CODE HERE\n",
    "        pass\n",
    "        \n",
    "    def dequeue(self):\n",
    "        # FILL OUT CODE HERE\n",
    "        pass\n",
    "```\n"
   ]
  },
  {
   "cell_type": "code",
   "execution_count": 2,
   "id": "4429767f",
   "metadata": {},
   "outputs": [],
   "source": [
    "class Stack_Node:\n",
    "    def __init__(self, data):\n",
    "        self.above = None\n",
    "        self.below = None\n",
    "        self.data = data"
   ]
  },
  {
   "cell_type": "code",
   "execution_count": 3,
   "id": "403b2e43",
   "metadata": {},
   "outputs": [],
   "source": [
    "class Stack:\n",
    "    def __init__(self):\n",
    "        self.base = None\n",
    "        self.top = None\n",
    "        \n",
    "    def push(self, element):\n",
    "        if not self.base:\n",
    "            self.base = Stack_Node(element)\n",
    "            self.top = self.base\n",
    "        else:\n",
    "            topmost_item = self.top\n",
    "            new_node = Stack_Node(element)\n",
    "            topmost_item.above = new_node\n",
    "            new_node.below = topmost_item\n",
    "            self.top = new_node\n",
    "            \n",
    "            \n",
    "    def pop(self):\n",
    "        if not self.base:\n",
    "            raise IndexError(\"Stack is empty.\")\n",
    "        if self.top == self.base:\n",
    "            value = self.base.data\n",
    "            self.top = None\n",
    "            self.base = None\n",
    "            return value\n",
    "        new_top = self.top.below\n",
    "        old_top = self.top\n",
    "        new_top.above = None\n",
    "        self.top = new_top\n",
    "        return old_top.data\n",
    "    \n",
    "    def size(self):\n",
    "        # should return the total amount of elements in our stack\n",
    "        if not self.base:\n",
    "            return 0\n",
    "        count = 1\n",
    "        pointer = self.base\n",
    "        while pointer.above != None:\n",
    "            count += 1\n",
    "            pointer = pointer.above\n",
    "        return count\n",
    "        \n",
    "    def is_empty(self):\n",
    "        # should return true if the stack is empty, false otherwise\n",
    "        if not self.base:\n",
    "            return True\n",
    "        return False\n",
    "        \n",
    "    def peek(self):\n",
    "        # should return the value of the top element in the stack\n",
    "        return self.top.data"
   ]
  },
  {
   "cell_type": "code",
   "execution_count": null,
   "id": "6d38a587",
   "metadata": {},
   "outputs": [],
   "source": [
    "class Queue2Stacks:\n",
    "    def __init__(self):\n",
    "        \n",
    "        self.stack1 = Stack()\n",
    "        self.stack2 = Stack()\n",
    "        \n",
    "        \n",
    "    def enqueue(self, element):\n",
    "         # need to keep track of above and below of each node\n",
    "        while len(self.stack1) != 0:\n",
    "            my_node = self.stack1[-1]\n",
    "            self.stack2.append(my_node)\n",
    "            self.stack1.pop()\n",
    "            \n",
    "        new_node = Stack_Node(element)\n",
    "        self.stack1.append(new_node)\n",
    "        \n",
    "        while len(self.stack2) != 0:\n",
    "            self.stack1.append(self.stack2[-1])\n",
    "            self.stack2.pop()\n",
    "            \n",
    "            \n",
    "    def dequeue(self):\n",
    "        \n",
    "        if len(self.stack1) == 0:\n",
    "\n",
    "            \n",
    "        top = self.stack1[-1]\n",
    "        self.stack1.pop()\n",
    "        return top"
   ]
  },
  {
   "cell_type": "code",
   "execution_count": 6,
   "id": "899397b8",
   "metadata": {},
   "outputs": [],
   "source": [
    "class Node:\n",
    "    def __init__(self, data):\n",
    "        self.next = None\n",
    "        self.data = data"
   ]
  },
  {
   "cell_type": "code",
   "execution_count": 111,
   "id": "5ca350c9",
   "metadata": {},
   "outputs": [],
   "source": [
    "class SinglyLinkedList:\n",
    "    def __init__(self):\n",
    "        self.head = None\n",
    "        \n",
    "    \n",
    "    def append(self, element):\n",
    "        if not self.head:\n",
    "            self.head = Node(element)\n",
    "        else:\n",
    "            pointer = self.head\n",
    "            while pointer.next:\n",
    "                pointer = pointer.next\n",
    "            pointer.next = Node(element)\n",
    "            \n",
    "    \n",
    "    def insert(self, index, element):\n",
    "        # implement the insert method which adds a new Node with \"element\" set as its data attribute\n",
    "        # before a given index (also a parameter to this method).\n",
    "        \n",
    "        new_node = Node(element)\n",
    "        \n",
    "        if not self.head:\n",
    "            self.head = new_node\n",
    "        else:\n",
    "            counter = 0\n",
    "            current = self.head\n",
    "            prev = None\n",
    "            while current.next and counter != index:\n",
    "                prev = current\n",
    "                current = current.next\n",
    "                counter += 1\n",
    "            if index == 0:\n",
    "                current_head = self.head\n",
    "                new_node.next = current_head\n",
    "                self.head = new_node\n",
    "            elif counter != index:\n",
    "                current.next = new_node\n",
    "            elif counter == index:\n",
    "                prev.next = new_node\n",
    "                new_node.next = current\n",
    "                \n",
    "                \n",
    "    def remove(self, value):\n",
    "        # remove first occurance of value\n",
    "        found = False\n",
    "        if self.head:\n",
    "            current = self.head\n",
    "            if current.data == value:\n",
    "                self.head = self.head.next\n",
    "                found = True\n",
    "            else:\n",
    "                prev = None\n",
    "                while current.next and current.data != value:\n",
    "                    prev = current\n",
    "                    current = current.next\n",
    "                if current.data == value:\n",
    "                    prev.next = current.next\n",
    "                    found = True\n",
    "        if not found:\n",
    "            raise ValueError(\"%s not in list\" % value)   \n",
    "            \n",
    "            \n",
    "    def __len__(self):\n",
    "        # This function should return the length of our list as an integer\n",
    "        count = 0\n",
    "        if not self.head:\n",
    "            return count\n",
    "        else:\n",
    "            pointer = self.head\n",
    "            while pointer:\n",
    "                count += 1\n",
    "                pointer = pointer.next\n",
    "            return count\n",
    "    \n",
    "    def count(self, value):\n",
    "        # This function should return the number of times a value exists in our list\n",
    "        if not self.head:\n",
    "            return 0\n",
    "        else:\n",
    "            count = 0\n",
    "            pointer = self.head\n",
    "            while pointer:\n",
    "                if pointer.data == value:\n",
    "                    count += 1\n",
    "                pointer = pointer.next\n",
    "            return count\n",
    "    \n",
    "    def index(self, value):\n",
    "        # Returns the first index of \"value\" if found or ValueError if not found\n",
    "        if not self.head:\n",
    "            raise ValueError(\"%s not in list. List is empty\" % value) \n",
    "        else:\n",
    "            count = 0\n",
    "            pointer = self.head\n",
    "            while pointer:\n",
    "                if pointer.data == value:\n",
    "                    return count\n",
    "                count += 1\n",
    "                pointer = pointer.next\n",
    "            else:\n",
    "                raise ValueError(\"%s not in list\" % value) \n",
    "                \n",
    "    def __str__(self):\n",
    "        out = \"[%s\" % self.head.data\n",
    "        current = self.head\n",
    "        while current:\n",
    "            current = current.next\n",
    "            if current:\n",
    "                out += \", %s\" % current.data\n",
    "        out += \"]\"\n",
    "        return out\n",
    "        "
   ]
  },
  {
   "cell_type": "code",
   "execution_count": 113,
   "id": "cd41798d",
   "metadata": {},
   "outputs": [
    {
     "name": "stdout",
     "output_type": "stream",
     "text": [
      "Append Test\n",
      "\n",
      "[One, Two, Three, Four]\n",
      "\n",
      "Insert Test\n",
      "\n",
      "[One, Two, Insert before two, Three, Four]\n",
      "\n",
      "Use __str__ method Test\n",
      "\n",
      "[First, One, Two, Insert before two, Three, Four, Last]\n",
      "\n",
      "Remove test\n",
      "\n",
      "Remove Insert before two\n",
      "[First, One, Two, Three, Four, Last]\n",
      "Remove Last\n",
      "[First, One, Two, Three, Four]\n",
      "Remove First\n",
      "[One, Two, Three, Four]\n",
      "\n",
      " length test\n",
      "\n",
      "The length of myList is: 4\n",
      "\n",
      " Count test\n",
      "\n",
      "There is 1 Three in the list\n",
      "Now there are 2 Three's in the list\n",
      "\n",
      "Index test\n",
      "\n",
      "The index of One is: 0\n",
      "The index of Two is: 1\n",
      "The index of Three is: 2\n",
      "The index of Four is: 3\n"
     ]
    },
    {
     "ename": "ValueError",
     "evalue": "Five not in list",
     "output_type": "error",
     "traceback": [
      "\u001b[0;31m---------------------------------------------------------------------------\u001b[0m",
      "\u001b[0;31mValueError\u001b[0m                                Traceback (most recent call last)",
      "Input \u001b[0;32mIn [113]\u001b[0m, in \u001b[0;36m<cell line: 49>\u001b[0;34m()\u001b[0m\n\u001b[1;32m     47\u001b[0m \u001b[38;5;28mprint\u001b[39m(\u001b[38;5;124m\"\u001b[39m\u001b[38;5;124mThe index of Three is: \u001b[39m\u001b[38;5;124m\"\u001b[39m \u001b[38;5;241m+\u001b[39m \u001b[38;5;28mstr\u001b[39m(myList\u001b[38;5;241m.\u001b[39mindex(\u001b[38;5;124m\"\u001b[39m\u001b[38;5;124mThree\u001b[39m\u001b[38;5;124m\"\u001b[39m)))\n\u001b[1;32m     48\u001b[0m \u001b[38;5;28mprint\u001b[39m(\u001b[38;5;124m\"\u001b[39m\u001b[38;5;124mThe index of Four is: \u001b[39m\u001b[38;5;124m\"\u001b[39m \u001b[38;5;241m+\u001b[39m \u001b[38;5;28mstr\u001b[39m(myList\u001b[38;5;241m.\u001b[39mindex(\u001b[38;5;124m\"\u001b[39m\u001b[38;5;124mFour\u001b[39m\u001b[38;5;124m\"\u001b[39m)))\n\u001b[0;32m---> 49\u001b[0m \u001b[38;5;28mprint\u001b[39m(\u001b[38;5;124m\"\u001b[39m\u001b[38;5;124mThe index of Five is: \u001b[39m\u001b[38;5;124m\"\u001b[39m \u001b[38;5;241m+\u001b[39m \u001b[38;5;28mstr\u001b[39m(\u001b[43mmyList\u001b[49m\u001b[38;5;241;43m.\u001b[39;49m\u001b[43mindex\u001b[49m\u001b[43m(\u001b[49m\u001b[38;5;124;43m\"\u001b[39;49m\u001b[38;5;124;43mFive\u001b[39;49m\u001b[38;5;124;43m\"\u001b[39;49m\u001b[43m)\u001b[49m))\n",
      "Input \u001b[0;32mIn [111]\u001b[0m, in \u001b[0;36mSinglyLinkedList.index\u001b[0;34m(self, value)\u001b[0m\n\u001b[1;32m     99\u001b[0m     pointer \u001b[38;5;241m=\u001b[39m pointer\u001b[38;5;241m.\u001b[39mnext\n\u001b[1;32m    100\u001b[0m \u001b[38;5;28;01melse\u001b[39;00m:\n\u001b[0;32m--> 101\u001b[0m     \u001b[38;5;28;01mraise\u001b[39;00m \u001b[38;5;167;01mValueError\u001b[39;00m(\u001b[38;5;124m\"\u001b[39m\u001b[38;5;132;01m%s\u001b[39;00m\u001b[38;5;124m not in list\u001b[39m\u001b[38;5;124m\"\u001b[39m \u001b[38;5;241m%\u001b[39m value)\n",
      "\u001b[0;31mValueError\u001b[0m: Five not in list"
     ]
    }
   ],
   "source": [
    "# SinglyLinkedList() test code\n",
    "print(\"Append Test\\n\")\n",
    "myList = SinglyLinkedList()\n",
    "myList.append(\"One\")\n",
    "myList.append(\"Two\")\n",
    "myList.append(\"Three\")\n",
    "myList.append(\"Four\")\n",
    "print(myList)\n",
    "\n",
    "print(\"\\nInsert Test\\n\")\n",
    "\n",
    "myList.insert(2, \"Insert before two\")\n",
    "pointer = myList.head\n",
    "print(myList)\n",
    "\n",
    "myList.insert(0, \"First\")\n",
    "myList.insert(100, \"Last\")\n",
    "\n",
    "print(\"\\nUse __str__ method Test\\n\")\n",
    "print(myList)\n",
    "\n",
    "print(\"\\nRemove test\\n\")\n",
    "print(\"Remove Insert before two\")\n",
    "myList.remove(\"Insert before two\")\n",
    "print(myList)\n",
    "\n",
    "print(\"Remove Last\")\n",
    "myList.remove(\"Last\")\n",
    "print(myList)\n",
    "\n",
    "print(\"Remove First\")\n",
    "myList.remove(\"First\")\n",
    "print(myList)\n",
    "\n",
    "\n",
    "print(\"\\n length test\\n\")\n",
    "print(\"The length of myList is: \" + str(len(myList)))\n",
    "\n",
    "print(\"\\n Count test\\n\")\n",
    "print(\"There is \" + str(myList.count(\"Three\")) + \" Three in the list\")\n",
    "myList.append(\"Three\")\n",
    "print(\"Now there are \" + str(myList.count(\"Three\")) + \" Three's in the list\")\n",
    "\n",
    "print(\"\\nIndex test\\n\")\n",
    "print(\"The index of One is: \" + str(myList.index(\"One\")))\n",
    "print(\"The index of Two is: \" + str(myList.index(\"Two\")))\n",
    "print(\"The index of Three is: \" + str(myList.index(\"Three\")))\n",
    "print(\"The index of Four is: \" + str(myList.index(\"Four\")))\n",
    "print(\"The index of Five is: \" + str(myList.index(\"Five\"))) ## This should raise ValueError"
   ]
  },
  {
   "cell_type": "code",
   "execution_count": null,
   "id": "36dc3ba9",
   "metadata": {},
   "outputs": [],
   "source": []
  }
 ],
 "metadata": {
  "kernelspec": {
   "display_name": "Python 3 (ipykernel)",
   "language": "python",
   "name": "python3"
  },
  "language_info": {
   "codemirror_mode": {
    "name": "ipython",
    "version": 3
   },
   "file_extension": ".py",
   "mimetype": "text/x-python",
   "name": "python",
   "nbconvert_exporter": "python",
   "pygments_lexer": "ipython3",
   "version": "3.8.10"
  }
 },
 "nbformat": 4,
 "nbformat_minor": 5
}
