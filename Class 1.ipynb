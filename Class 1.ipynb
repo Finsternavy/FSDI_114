{
 "cells": [
  {
   "cell_type": "code",
   "execution_count": 1,
   "id": "d4632281",
   "metadata": {},
   "outputs": [
    {
     "name": "stdout",
     "output_type": "stream",
     "text": [
      "h\n",
      "e\n",
      "l\n",
      "l\n",
      "o\n",
      ",\n",
      " \n",
      "w\n",
      "o\n",
      "r\n",
      "l\n",
      "d\n"
     ]
    }
   ],
   "source": [
    "for letter in \"hello, world\":\n",
    "    print(letter)"
   ]
  },
  {
   "cell_type": "markdown",
   "id": "17bcf437",
   "metadata": {},
   "source": [
    "# Problem 1\n",
    "\n",
    "### Given two string (string_a and string_b) determine if they are anagrams of each other given the following criteria:\n",
    "\n",
    "> Two strings are only anagrams of each other if all conditions below are met:\n",
    "> * They must be exactly the same length\n",
    "> * They must use exactly the same characters (no more, no less).\n",
    "\n",
    "`Examples:  cars and scar, heart and earth, etc.`\n",
    "\n",
    "## Instructions\n",
    "Create a function called \"anagrams_check\" that returns true if the two parameters (both strings) submitted are agagrams of each other and false otherwise."
   ]
  },
  {
   "cell_type": "code",
   "execution_count": 2,
   "id": "33b9a2b6",
   "metadata": {},
   "outputs": [],
   "source": [
    "def anagram_check(string_a, string_b):\n",
    "    return sorted(string_a,) == sorted(string_b)"
   ]
  },
  {
   "cell_type": "code",
   "execution_count": 3,
   "id": "c9aea22e",
   "metadata": {},
   "outputs": [
    {
     "data": {
      "text/plain": [
       "True"
      ]
     },
     "execution_count": 3,
     "metadata": {},
     "output_type": "execute_result"
    }
   ],
   "source": [
    "anagram_check(\"heart\", \"earth\")"
   ]
  },
  {
   "cell_type": "code",
   "execution_count": 4,
   "id": "b005fd2c",
   "metadata": {},
   "outputs": [],
   "source": [
    "def anagram_check(string_a, string_b):\n",
    "    if len(string_a) != len(string_b):\n",
    "        return false\n",
    "    for letter in string_a:\n",
    "        ltr = letter\n",
    "        count_a = 0\n",
    "        for letter in string_a:\n",
    "            if letter == ltr:\n",
    "                count_a += 1\n",
    "        count_b = 0\n",
    "        for letter in string_b:\n",
    "            if letter == ltr:\n",
    "                count_b += 1\n",
    "        if count_a != count_b:\n",
    "            return false\n",
    "    return true"
   ]
  },
  {
   "cell_type": "code",
   "execution_count": 5,
   "id": "b527a4b1",
   "metadata": {},
   "outputs": [
    {
     "ename": "NameError",
     "evalue": "name 'true' is not defined",
     "output_type": "error",
     "traceback": [
      "\u001b[0;31m---------------------------------------------------------------------------\u001b[0m",
      "\u001b[0;31mNameError\u001b[0m                                 Traceback (most recent call last)",
      "Input \u001b[0;32mIn [5]\u001b[0m, in \u001b[0;36m<cell line: 1>\u001b[0;34m()\u001b[0m\n\u001b[0;32m----> 1\u001b[0m \u001b[43managram_check\u001b[49m\u001b[43m(\u001b[49m\u001b[38;5;124;43m\"\u001b[39;49m\u001b[38;5;124;43mheart\u001b[39;49m\u001b[38;5;124;43m\"\u001b[39;49m\u001b[43m,\u001b[49m\u001b[43m \u001b[49m\u001b[38;5;124;43m\"\u001b[39;49m\u001b[38;5;124;43mearth\u001b[39;49m\u001b[38;5;124;43m\"\u001b[39;49m\u001b[43m)\u001b[49m\n",
      "Input \u001b[0;32mIn [4]\u001b[0m, in \u001b[0;36managram_check\u001b[0;34m(string_a, string_b)\u001b[0m\n\u001b[1;32m     14\u001b[0m     \u001b[38;5;28;01mif\u001b[39;00m count_a \u001b[38;5;241m!=\u001b[39m count_b:\n\u001b[1;32m     15\u001b[0m         \u001b[38;5;28;01mreturn\u001b[39;00m false\n\u001b[0;32m---> 16\u001b[0m \u001b[38;5;28;01mreturn\u001b[39;00m \u001b[43mtrue\u001b[49m\n",
      "\u001b[0;31mNameError\u001b[0m: name 'true' is not defined"
     ]
    }
   ],
   "source": [
    "anagram_check(\"heart\", \"earth\")"
   ]
  },
  {
   "cell_type": "code",
   "execution_count": 6,
   "id": "d7ccae15",
   "metadata": {},
   "outputs": [],
   "source": [
    "def anagram_check(string_a, string_b):\n",
    "    if len(string_a) != len(string_b):\n",
    "        return False\n",
    "    for letter in string_a:\n",
    "        ltr = letter\n",
    "        count_a = 0\n",
    "        for letter in string_a:\n",
    "            if letter == ltr:\n",
    "                count_a += 1\n",
    "        count_b = 0\n",
    "        for letter in string_b:\n",
    "            if letter == ltr:\n",
    "                count_b += 1\n",
    "        if count_a != count_b:\n",
    "            return False\n",
    "    return True"
   ]
  },
  {
   "cell_type": "code",
   "execution_count": 7,
   "id": "167d37ea",
   "metadata": {},
   "outputs": [
    {
     "data": {
      "text/plain": [
       "True"
      ]
     },
     "execution_count": 7,
     "metadata": {},
     "output_type": "execute_result"
    }
   ],
   "source": [
    "anagram_check(\"heart\", \"earth\")"
   ]
  },
  {
   "cell_type": "code",
   "execution_count": 8,
   "id": "4215313e",
   "metadata": {},
   "outputs": [
    {
     "data": {
      "text/plain": [
       "False"
      ]
     },
     "execution_count": 8,
     "metadata": {},
     "output_type": "execute_result"
    }
   ],
   "source": [
    "anagram_check(\"heart\", \"earthh\")"
   ]
  },
  {
   "cell_type": "code",
   "execution_count": 9,
   "id": "525e71e0",
   "metadata": {},
   "outputs": [
    {
     "data": {
      "text/plain": [
       "True"
      ]
     },
     "execution_count": 9,
     "metadata": {},
     "output_type": "execute_result"
    }
   ],
   "source": [
    "anagram_check(\"cars\", \"scar\")"
   ]
  },
  {
   "cell_type": "code",
   "execution_count": 10,
   "id": "c9c511a2",
   "metadata": {},
   "outputs": [
    {
     "data": {
      "text/plain": [
       "False"
      ]
     },
     "execution_count": 10,
     "metadata": {},
     "output_type": "execute_result"
    }
   ],
   "source": [
    "anagram_check(\"aaaa\", \"aaab\")"
   ]
  },
  {
   "cell_type": "code",
   "execution_count": 11,
   "id": "b368e617",
   "metadata": {},
   "outputs": [],
   "source": [
    "def anagram_check(string_a, string_b):\n",
    "    if len(string_a) != len(string_b):\n",
    "        return False\n",
    "    strA = string_a.lower()\n",
    "    strB = string_b.lower()\n",
    "    for letter in strA:\n",
    "        ltr = letter\n",
    "        count_a = 0\n",
    "        for letter in strA:\n",
    "            if letter == ltr:\n",
    "                count_a += 1\n",
    "        count_b = 0\n",
    "        for letter in strB:\n",
    "            if letter == ltr:\n",
    "                count_b += 1\n",
    "        if count_a != count_b:\n",
    "            return False\n",
    "    return True"
   ]
  },
  {
   "cell_type": "code",
   "execution_count": 12,
   "id": "ce0b58aa",
   "metadata": {},
   "outputs": [
    {
     "data": {
      "text/plain": [
       "True"
      ]
     },
     "execution_count": 12,
     "metadata": {},
     "output_type": "execute_result"
    }
   ],
   "source": [
    "anagram_check(\"cars\", \"SCAR\")"
   ]
  },
  {
   "cell_type": "code",
   "execution_count": 13,
   "id": "90fc3cc1",
   "metadata": {},
   "outputs": [
    {
     "data": {
      "text/plain": [
       "()"
      ]
     },
     "execution_count": 13,
     "metadata": {},
     "output_type": "execute_result"
    }
   ],
   "source": [
    "()"
   ]
  },
  {
   "cell_type": "code",
   "execution_count": 14,
   "id": "a503121f",
   "metadata": {},
   "outputs": [
    {
     "data": {
      "text/plain": [
       "False"
      ]
     },
     "execution_count": 14,
     "metadata": {},
     "output_type": "execute_result"
    }
   ],
   "source": [
    "anagram_check(\"AAAA\", \"AAAb\")"
   ]
  },
  {
   "cell_type": "code",
   "execution_count": 15,
   "id": "aa9beedd",
   "metadata": {},
   "outputs": [],
   "source": [
    "def anagram_check_2(string_a, string_b):\n",
    "    if len(string_a) != len(string_b):\n",
    "        return false\n",
    "    char_times_a = dict()\n",
    "    char_times_b = dict()\n",
    "    for i in range(len(string_a)):\n",
    "        if string_a[i] not in char_times_a.keys():\n",
    "            char_times_a[string_a[i]] = 1\n",
    "        else:\n",
    "            char_times_a[string_a[i]] += 1\n",
    "        if string_b[i] not in char_times_b.keys():\n",
    "            char_times_b[string_b[i]] = 1\n",
    "        else:\n",
    "            char_times_b[string_b[i]] += 1\n",
    "    return char_times_a == char_times_b"
   ]
  },
  {
   "cell_type": "code",
   "execution_count": 16,
   "id": "4530e24f",
   "metadata": {},
   "outputs": [
    {
     "data": {
      "text/plain": [
       "True"
      ]
     },
     "execution_count": 16,
     "metadata": {},
     "output_type": "execute_result"
    }
   ],
   "source": [
    "anagram_check_2(\"heart\", \"earth\")"
   ]
  },
  {
   "cell_type": "code",
   "execution_count": 17,
   "id": "79bae496",
   "metadata": {},
   "outputs": [
    {
     "data": {
      "text/plain": [
       "False"
      ]
     },
     "execution_count": 17,
     "metadata": {},
     "output_type": "execute_result"
    }
   ],
   "source": [
    "# \"I am Lord Voldemort\" is an anagram \"Tom Marvolo Riddle\"\n",
    "anagram_check(\"I am Lord Voldemort\", \"Tom Marvolo Riddle\")"
   ]
  },
  {
   "cell_type": "code",
   "execution_count": 18,
   "id": "a694dc4e",
   "metadata": {},
   "outputs": [],
   "source": [
    "def anagram_check(string_a, string_b):\n",
    "    string_a.replace(\" \", \"\")\n",
    "    string_b.replace(\" \", \"\")\n",
    "    if len(string_a) != len(string_b):\n",
    "        return False\n",
    "    strA = string_a.lower()\n",
    "    strB = string_b.lower()\n",
    "    for letter in strA:\n",
    "        ltr = letter\n",
    "        count_a = 0\n",
    "        for letter in strA:\n",
    "            if letter == ltr:\n",
    "                count_a += 1\n",
    "        count_b = 0\n",
    "        for letter in strB:\n",
    "            if letter == ltr:\n",
    "                count_b += 1\n",
    "        if count_a != count_b:\n",
    "            return False\n",
    "    return True"
   ]
  },
  {
   "cell_type": "code",
   "execution_count": 19,
   "id": "6af20af9",
   "metadata": {},
   "outputs": [
    {
     "data": {
      "text/plain": [
       "False"
      ]
     },
     "execution_count": 19,
     "metadata": {},
     "output_type": "execute_result"
    }
   ],
   "source": [
    "anagram_check(\"I am Lord Voldemort\", \"Tom Marvolo Riddle\")"
   ]
  },
  {
   "cell_type": "code",
   "execution_count": 20,
   "id": "6f03da10",
   "metadata": {},
   "outputs": [],
   "source": [
    "def anagram_check(string_a, string_b):\n",
    "    strA = string_a.replace(\" \", \"\")\n",
    "    strB = string_b.replace(\" \", \"\")\n",
    "    if len(string_a) != len(string_b):\n",
    "        return False\n",
    "    strA = strA.lower()\n",
    "    strB = strB.lower()\n",
    "    for letter in strA:\n",
    "        ltr = letter\n",
    "        count_a = 0\n",
    "        for letter in strA:\n",
    "            if letter == ltr:\n",
    "                count_a += 1\n",
    "        count_b = 0\n",
    "        for letter in strB:\n",
    "            if letter == ltr:\n",
    "                count_b += 1\n",
    "        if count_a != count_b:\n",
    "            return False\n",
    "    return True"
   ]
  },
  {
   "cell_type": "code",
   "execution_count": 21,
   "id": "b1913af4",
   "metadata": {},
   "outputs": [
    {
     "data": {
      "text/plain": [
       "False"
      ]
     },
     "execution_count": 21,
     "metadata": {},
     "output_type": "execute_result"
    }
   ],
   "source": [
    "anagram_check(\"I am Lord Voldemort\", \"Tom Marvolo Riddle\")"
   ]
  },
  {
   "cell_type": "code",
   "execution_count": 22,
   "id": "b0191975",
   "metadata": {},
   "outputs": [],
   "source": [
    "def anagram_check(string_a, string_b):\n",
    "    strA = string_a.replace(\" \", \"\")\n",
    "    strB = string_b.replace(\" \", \"\")\n",
    "    print(strA + \" \" + strB)\n",
    "    if len(string_a) != len(string_b):\n",
    "        return False\n",
    "    strA = strA.lower()\n",
    "    strB = strB.lower()\n",
    "    for letter in strA:\n",
    "        ltr = letter\n",
    "        count_a = 0\n",
    "        for letter in strA:\n",
    "            if letter == ltr:\n",
    "                count_a += 1\n",
    "        count_b = 0\n",
    "        for letter in strB:\n",
    "            if letter == ltr:\n",
    "                count_b += 1\n",
    "        if count_a != count_b:\n",
    "            return False\n",
    "    return True"
   ]
  },
  {
   "cell_type": "code",
   "execution_count": 23,
   "id": "a1448298",
   "metadata": {},
   "outputs": [
    {
     "name": "stdout",
     "output_type": "stream",
     "text": [
      "IamLordVoldemort TomMarvoloRiddle\n"
     ]
    },
    {
     "data": {
      "text/plain": [
       "False"
      ]
     },
     "execution_count": 23,
     "metadata": {},
     "output_type": "execute_result"
    }
   ],
   "source": [
    "anagram_check(\"I am Lord Voldemort\", \"Tom Marvolo Riddle\")"
   ]
  },
  {
   "cell_type": "code",
   "execution_count": 24,
   "id": "536b37be",
   "metadata": {},
   "outputs": [],
   "source": [
    "def anagram_check(string_a, string_b):\n",
    "    strA = string_a.replace(\" \", \"\")\n",
    "    strB = string_b.replace(\" \", \"\")\n",
    "    print(strA + \" \" + strB)\n",
    "    if len(string_a) != len(string_b):\n",
    "        print(\"Not the same length\")\n",
    "        return False\n",
    "    strA = strA.lower()\n",
    "    strB = strB.lower()\n",
    "    for letter in strA:\n",
    "        ltr = letter\n",
    "        count_a = 0\n",
    "        for letter in strA:\n",
    "            if letter == ltr:\n",
    "                count_a += 1\n",
    "        count_b = 0\n",
    "        for letter in strB:\n",
    "            if letter == ltr:\n",
    "                count_b += 1\n",
    "        if count_a != count_b:\n",
    "            return False\n",
    "    return True"
   ]
  },
  {
   "cell_type": "code",
   "execution_count": 25,
   "id": "f5c56bf9",
   "metadata": {},
   "outputs": [
    {
     "name": "stdout",
     "output_type": "stream",
     "text": [
      "IamLordVoldemort TomMarvoloRiddle\n",
      "Not the same length\n"
     ]
    },
    {
     "data": {
      "text/plain": [
       "False"
      ]
     },
     "execution_count": 25,
     "metadata": {},
     "output_type": "execute_result"
    }
   ],
   "source": [
    "anagram_check(\"I am Lord Voldemort\", \"Tom Marvolo Riddle\")"
   ]
  },
  {
   "cell_type": "code",
   "execution_count": 26,
   "id": "1878cf8e",
   "metadata": {},
   "outputs": [],
   "source": [
    "def anagram_check(string_a, string_b):\n",
    "    strA = string_a.replace(\" \", \"\")\n",
    "    strB = string_b.replace(\" \", \"\")\n",
    "    print(strA + \" \" + strB)\n",
    "    if len(strA) != len(strB):\n",
    "        print(\"Not the same length\")\n",
    "        return False\n",
    "    strA = strA.lower()\n",
    "    strB = strB.lower()\n",
    "    for letter in strA:\n",
    "        ltr = letter\n",
    "        count_a = 0\n",
    "        for letter in strA:\n",
    "            if letter == ltr:\n",
    "                count_a += 1\n",
    "        count_b = 0\n",
    "        for letter in strB:\n",
    "            if letter == ltr:\n",
    "                count_b += 1\n",
    "        if count_a != count_b:\n",
    "            return False\n",
    "    return True"
   ]
  },
  {
   "cell_type": "code",
   "execution_count": 27,
   "id": "7cceb82c",
   "metadata": {},
   "outputs": [
    {
     "name": "stdout",
     "output_type": "stream",
     "text": [
      "IamLordVoldemort TomMarvoloRiddle\n"
     ]
    },
    {
     "data": {
      "text/plain": [
       "True"
      ]
     },
     "execution_count": 27,
     "metadata": {},
     "output_type": "execute_result"
    }
   ],
   "source": [
    "anagram_check(\"I am Lord Voldemort\", \"Tom Marvolo Riddle\")"
   ]
  },
  {
   "cell_type": "code",
   "execution_count": 28,
   "id": "9e7763fb",
   "metadata": {},
   "outputs": [],
   "source": [
    "def anagram_check_2(string_a, string_b):\n",
    "    strA = string_a.replace(\" \", \"\")\n",
    "    strB = string_b.replace(\" \", \"\")\n",
    "    if len(strA) != len(strB):\n",
    "        return false\n",
    "    char_times_a = dict()\n",
    "    char_times_b = dict()\n",
    "    for i in range(len(strA)):\n",
    "        if strA[i] not in char_times_a.keys():\n",
    "            char_times_a[strA[i]] = 1\n",
    "        else:\n",
    "            char_times_a[strA[i]] += 1\n",
    "        if strB[i] not in char_times_b.keys():\n",
    "            char_times_b[strB[i]] = 1\n",
    "        else:\n",
    "            char_times_b[strB[i]] += 1\n",
    "    return char_times_a == char_times_b"
   ]
  },
  {
   "cell_type": "code",
   "execution_count": 29,
   "id": "7bffc40f",
   "metadata": {},
   "outputs": [
    {
     "data": {
      "text/plain": [
       "False"
      ]
     },
     "execution_count": 29,
     "metadata": {},
     "output_type": "execute_result"
    }
   ],
   "source": [
    "anagram_check_2(\"I am Lord Voldemort\", \"Tom Marvolo Riddle\")"
   ]
  },
  {
   "cell_type": "code",
   "execution_count": 30,
   "id": "e92d3f8d",
   "metadata": {},
   "outputs": [],
   "source": [
    "def anagram_check_2(string_a, string_b):\n",
    "    strA = string_a.replace(\" \", \"\")\n",
    "    strB = string_b.replace(\" \", \"\")\n",
    "    strA = strA.lower()\n",
    "    strB = strB.lower()\n",
    "    if len(strA) != len(strB):\n",
    "        return false\n",
    "    char_times_a = dict()\n",
    "    char_times_b = dict()\n",
    "    for i in range(len(strA)):\n",
    "        if strA[i] not in char_times_a.keys():\n",
    "            char_times_a[strA[i]] = 1\n",
    "        else:\n",
    "            char_times_a[strA[i]] += 1\n",
    "        if strB[i] not in char_times_b.keys():\n",
    "            char_times_b[strB[i]] = 1\n",
    "        else:\n",
    "            char_times_b[strB[i]] += 1\n",
    "    return char_times_a == char_times_b"
   ]
  },
  {
   "cell_type": "code",
   "execution_count": 31,
   "id": "12542aab",
   "metadata": {},
   "outputs": [
    {
     "data": {
      "text/plain": [
       "True"
      ]
     },
     "execution_count": 31,
     "metadata": {},
     "output_type": "execute_result"
    }
   ],
   "source": [
    "anagram_check_2(\"I am Lord Voldemort\", \"Tom Marvolo Riddle\")"
   ]
  },
  {
   "cell_type": "code",
   "execution_count": 1,
   "id": "9f4c68f8",
   "metadata": {},
   "outputs": [],
   "source": [
    "class Stack:\n",
    "    def __init__(self):\n",
    "        self.items = []\n",
    "    \n",
    "    def push(self, element):\n",
    "        self.items.append(element)\n",
    "        \n",
    "    def pop(self):\n",
    "        return self.items.pop()\n",
    "    \n",
    "    def size(self):\n",
    "        return len(self.items)\n",
    "    \n",
    "    def peek(self):\n",
    "        return self.items[len(self.items-1)]\n",
    "    \n",
    "    def is_empty(self):\n",
    "        return self.items == []\n"
   ]
  },
  {
   "cell_type": "markdown",
   "id": "83d52278",
   "metadata": {},
   "source": [
    "# Problem 2\n",
    "### Use our stack class to invert a string.\n",
    "\n",
    "## Instructions\n",
    "Create a function called \"string_reverse\" that takes a string as a parameter and inverts it using our stack class.\n",
    "* Your function must use our stack class!*\n",
    "\n",
    "Example:\n",
    "```\n",
    "string_reverse(\"Chris\") should return \"sirhC\"\n",
    "string_reverse(\"cars\") should return \"srac\"\n",
    "etc\n",
    "```"
   ]
  },
  {
   "cell_type": "code",
   "execution_count": 2,
   "id": "1989c4d6",
   "metadata": {},
   "outputs": [],
   "source": [
    "def string_reverse(input_string):\n",
    "    inverted_string = \"\"\n",
    "    stack = Stack()\n",
    "    for i in range(len(input_string)):\n",
    "        stack.push(input_string[i])\n",
    "        print(input_string[i])\n",
    "    for i in range(stack.size()):\n",
    "        inverted_string += stack.pop()\n",
    "    return inverted_string"
   ]
  },
  {
   "cell_type": "code",
   "execution_count": 3,
   "id": "37e15d3d",
   "metadata": {},
   "outputs": [
    {
     "name": "stdout",
     "output_type": "stream",
     "text": [
      "C\n",
      "h\n",
      "r\n",
      "i\n",
      "s\n"
     ]
    },
    {
     "data": {
      "text/plain": [
       "'sirhC'"
      ]
     },
     "execution_count": 3,
     "metadata": {},
     "output_type": "execute_result"
    }
   ],
   "source": [
    "string_reverse(\"Chris\")"
   ]
  },
  {
   "cell_type": "code",
   "execution_count": 4,
   "id": "3767b409",
   "metadata": {},
   "outputs": [
    {
     "name": "stdout",
     "output_type": "stream",
     "text": [
      "c\n",
      "a\n",
      "r\n",
      "s\n"
     ]
    },
    {
     "data": {
      "text/plain": [
       "'srac'"
      ]
     },
     "execution_count": 4,
     "metadata": {},
     "output_type": "execute_result"
    }
   ],
   "source": [
    "string_reverse(\"cars\")"
   ]
  },
  {
   "cell_type": "code",
   "execution_count": null,
   "id": "52b6c5ff",
   "metadata": {},
   "outputs": [],
   "source": []
  }
 ],
 "metadata": {
  "kernelspec": {
   "display_name": "Python 3 (ipykernel)",
   "language": "python",
   "name": "python3"
  },
  "language_info": {
   "codemirror_mode": {
    "name": "ipython",
    "version": 3
   },
   "file_extension": ".py",
   "mimetype": "text/x-python",
   "name": "python",
   "nbconvert_exporter": "python",
   "pygments_lexer": "ipython3",
   "version": "3.8.10"
  }
 },
 "nbformat": 4,
 "nbformat_minor": 5
}
